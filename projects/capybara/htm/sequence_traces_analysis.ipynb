{
 "cells": [
  {
   "cell_type": "markdown",
   "metadata": {
    "deletable": true,
    "editable": true
   },
   "source": [
    "\n",
    "The goal of this notebook is to:\n",
    "* generate HTM traces\n",
    "* load the traces\n",
    "* order by label and compute the inter-label distances\n",
    "* plot the distance matrix"
   ]
  },
  {
   "cell_type": "code",
   "execution_count": 1,
   "metadata": {
    "collapsed": true,
    "deletable": true,
    "editable": true
   },
   "outputs": [],
   "source": [
    "import pandas as pd\n",
    "import json\n",
    "import numpy as np\n",
    "import matplotlib.pyplot as plt\n",
    "from sklearn.manifold import TSNE\n",
    "import matplotlib.patches as mpatches\n",
    "import seaborn as sns\n",
    "\n",
    "%matplotlib inline"
   ]
  },
  {
   "cell_type": "code",
   "execution_count": 2,
   "metadata": {
    "collapsed": true,
    "deletable": true,
    "editable": true
   },
   "outputs": [],
   "source": [
    "# params\n",
    "SP_OUTPUT_WIDTH = 2048\n",
    "TM_OUTPUT_WIDTH = 65536"
   ]
  },
  {
   "cell_type": "code",
   "execution_count": 3,
   "metadata": {
    "collapsed": false,
    "deletable": true,
    "editable": true
   },
   "outputs": [],
   "source": [
    "# Helper functions\n",
    "def sdr_converter(sdr_width):\n",
    "\n",
    "    def convert_sdr(patternNZ_strings):\n",
    "        patternNZs = json.loads(patternNZ_strings)\n",
    "        sdrs = []\n",
    "        for patternNZ in patternNZs:\n",
    "            sdr = np.zeros(sdr_width)\n",
    "            sdr[patternNZ] = 1\n",
    "            sdrs.append(sdr.tolist())\n",
    "        return np.array(sdrs)\n",
    "    return convert_sdr\n",
    "\n",
    "\n",
    "def load_df(file_path):\n",
    "    return pd.read_csv(file_path, converters={\n",
    "        'spActiveColumns': sdr_converter(SP_OUTPUT_WIDTH),\n",
    "        'tmPredictedActiveCells': sdr_converter(TM_OUTPUT_WIDTH)})\n",
    "\n",
    "\n",
    "def sequence_embedding(sdrs_sequence, aggregation):\n",
    "    if aggregation == 'or':\n",
    "        embedding = sdrs_sequence[0]\n",
    "        for sdr in sdrs_sequence:\n",
    "            embedding = np.logical_or(embedding, sdr)\n",
    "        return embedding.astype(int)\n",
    "    elif aggregation == 'and':\n",
    "        embedding = sdrs_sequence[0]\n",
    "        for sdr in sdrs_sequence:\n",
    "            embedding = np.logical_and(embedding, sdr)\n",
    "        return embedding.astype(int)\n",
    "    elif aggregation == 'mean':\n",
    "        return np.mean(sdrs_sequence, axis=0)\n",
    "    else:\n",
    "        raise ValueError('Wrong SDR aggregation name.')\n",
    "\n",
    "        \n",
    "def chunked_sequence_embedding(sdrs_sequence, aggregation, nb_chunks=1):\n",
    "    chunk_size = len(sdrs_sequence) / nb_chunks\n",
    "    embedding = []\n",
    "    for i in range(nb_chunks):\n",
    "        chunk = sdrs_sequence[i*chunk_size:(i+1)* chunk_size]\n",
    "        embedding.append(sequence_embedding(chunk, aggregation))\n",
    "    embedding = np.array(embedding)\n",
    "    embedding = embedding.flatten()\n",
    "    return embedding\n",
    "\n",
    "\n",
    "def sequence_embeddings(sdrs_sequences, aggregation, nb_chunks):\n",
    "    embeddings = []\n",
    "    for sdrs_sequence in sdrs_sequences:\n",
    "        #embedding = sequence_embedding(sdrs_sequence, aggregation)\n",
    "        embedding = chunked_sequence_embedding(sdrs_sequence, aggregation, nb_chunks)\n",
    "        embeddings.append(embedding)\n",
    "    return embeddings\n",
    "\n",
    "\n",
    "def euclidian_distance(x1, x2):\n",
    "    return np.linalg.norm(x2-x1) # L2 norm\n",
    "\n",
    "\n",
    "def distance_mats(col_embeddings, cell_embeddings, cell_w=1.0, col_w=1.0, distance=euclidian_distance):\n",
    "    assert len(col_embeddings) == len(cell_embeddings)\n",
    "    nb_sequences = len(col_embeddings)\n",
    "    col_mat = np.zeros((nb_sequences, nb_sequences), dtype=np.float64)\n",
    "    cell_mat = np.zeros((nb_sequences, nb_sequences), dtype=np.float64)\n",
    "    combined_mat = np.zeros((nb_sequences, nb_sequences), dtype=np.float64)\n",
    "    for i in range(nb_sequences):\n",
    "        for j in range(i, nb_sequences):\n",
    "            col_dist = distance(col_embeddings[i], col_embeddings[j])\n",
    "            cell_dist = distance(cell_embeddings[i], cell_embeddings[j])\n",
    "            col_mat[i, j] = col_dist\n",
    "            cell_mat[i, j] = cell_dist\n",
    "            combined_mat[i, j] = (col_w * col_dist + cell_w * cell_dist) / (col_w + cell_w)\n",
    "\n",
    "            col_mat[j, i] = col_mat[i, j]\n",
    "            cell_mat[j, i] = cell_mat[i, j]\n",
    "            combined_mat[j, i] = combined_mat[i, j]\n",
    "    return col_mat, cell_mat, combined_mat\n",
    "\n",
    "\n",
    "def project_embeddings(embeddings, embedding_name):\n",
    "    tsne = TSNE(metric='euclidean', n_iter=1000, init='pca')\n",
    "    return tsne.fit_transform(embeddings)"
   ]
  },
  {
   "cell_type": "code",
   "execution_count": null,
   "metadata": {
    "collapsed": false,
    "deletable": true,
    "editable": true
   },
   "outputs": [
    {
     "name": "stderr",
     "output_type": "stream",
     "text": [
      "INFO:NetworkRunner:Input file: body_acc_x_TRAIN\n",
      "INFO:NetworkRunner:Traces saved in: traces_debug/\n",
      "INFO:NetworkRunner:Input file: body_acc_x_TEST\n",
      "INFO:NetworkRunner:Traces saved in: traces_debug/\n"
     ]
    },
    {
     "name": "stdout",
     "output_type": "stream",
     "text": [
      "Current working directory: /Users/mleborgne/_git/nupic.research/projects/capybara/htm\n"
     ]
    },
    {
     "name": "stderr",
     "output_type": "stream",
     "text": [
      "INFO:NetworkRunner:Input file: body_acc_x_TRAIN\n",
      "INFO:NetworkRunner:Wrote to file (label=4, sequenceNumber=10)\n",
      "INFO:NetworkRunner:Elapsed time: 0.95s\n",
      "INFO:NetworkRunner:Wrote to file (label=4, sequenceNumber=20)\n",
      "INFO:NetworkRunner:Elapsed time: 1.99s\n",
      "INFO:NetworkRunner:Wrote to file (label=4, sequenceNumber=30)\n",
      "INFO:NetworkRunner:Elapsed time: 3.41s\n",
      "INFO:NetworkRunner:Wrote to file (label=3, sequenceNumber=40)\n",
      "INFO:NetworkRunner:Elapsed time: 4.86s\n",
      "INFO:NetworkRunner:Wrote to file (label=3, sequenceNumber=50)\n",
      "INFO:NetworkRunner:Elapsed time: 6.62s\n",
      "INFO:NetworkRunner:Wrote to file (label=3, sequenceNumber=60)\n",
      "INFO:NetworkRunner:Elapsed time: 8.34s\n",
      "INFO:NetworkRunner:Wrote to file (label=5, sequenceNumber=70)\n",
      "INFO:NetworkRunner:Elapsed time: 9.99s\n",
      "INFO:NetworkRunner:Wrote to file (label=5, sequenceNumber=80)\n",
      "INFO:NetworkRunner:Elapsed time: 11.68s\n",
      "INFO:NetworkRunner:Wrote to file (label=5, sequenceNumber=90)\n",
      "INFO:NetworkRunner:Elapsed time: 13.20s\n",
      "INFO:NetworkRunner:Wrote to file (label=0, sequenceNumber=100)\n",
      "INFO:NetworkRunner:Elapsed time: 14.97s\n",
      "INFO:NetworkRunner:Wrote to file (label=0, sequenceNumber=110)\n",
      "INFO:NetworkRunner:Elapsed time: 16.25s\n",
      "INFO:NetworkRunner:Wrote to file (label=0, sequenceNumber=120)\n",
      "INFO:NetworkRunner:Elapsed time: 17.56s\n",
      "INFO:NetworkRunner:Wrote to file (label=0, sequenceNumber=130)\n",
      "INFO:NetworkRunner:Elapsed time: 18.93s\n",
      "INFO:NetworkRunner:Wrote to file (label=0, sequenceNumber=140)\n",
      "INFO:NetworkRunner:Elapsed time: 20.33s\n",
      "INFO:NetworkRunner:Wrote to file (label=2, sequenceNumber=150)\n",
      "INFO:NetworkRunner:Elapsed time: 21.79s\n",
      "INFO:NetworkRunner:Wrote to file (label=2, sequenceNumber=160)\n",
      "INFO:NetworkRunner:Elapsed time: 23.33s\n",
      "INFO:NetworkRunner:Wrote to file (label=2, sequenceNumber=170)\n",
      "INFO:NetworkRunner:Elapsed time: 24.87s\n",
      "INFO:NetworkRunner:Wrote to file (label=1, sequenceNumber=180)\n",
      "INFO:NetworkRunner:Elapsed time: 26.73s\n",
      "INFO:NetworkRunner:Wrote to file (label=1, sequenceNumber=190)\n",
      "INFO:NetworkRunner:Elapsed time: 28.97s\n",
      "INFO:NetworkRunner:Wrote to file (label=1, sequenceNumber=200)\n",
      "INFO:NetworkRunner:Elapsed time: 30.99s\n",
      "INFO:NetworkRunner:Wrote to file (label=1, sequenceNumber=210)\n",
      "INFO:NetworkRunner:Elapsed time: 33.11s\n",
      "INFO:NetworkRunner:Wrote to file (label=4, sequenceNumber=220)\n",
      "INFO:NetworkRunner:Elapsed time: 36.19s\n",
      "INFO:NetworkRunner:Wrote to file (label=3, sequenceNumber=230)\n",
      "INFO:NetworkRunner:Elapsed time: 39.36s\n",
      "INFO:NetworkRunner:Wrote to file (label=3, sequenceNumber=240)\n",
      "INFO:NetworkRunner:Elapsed time: 42.46s\n",
      "INFO:NetworkRunner:Wrote to file (label=5, sequenceNumber=250)\n",
      "INFO:NetworkRunner:Elapsed time: 45.57s\n",
      "INFO:NetworkRunner:Wrote to file (label=3, sequenceNumber=260)\n",
      "INFO:NetworkRunner:Elapsed time: 48.71s\n",
      "INFO:NetworkRunner:Wrote to file (label=1, sequenceNumber=270)\n",
      "INFO:NetworkRunner:Elapsed time: 50.61s\n",
      "INFO:NetworkRunner:Wrote to file (label=1, sequenceNumber=280)\n",
      "INFO:NetworkRunner:Elapsed time: 52.70s\n",
      "INFO:NetworkRunner:Wrote to file (label=2, sequenceNumber=290)\n",
      "INFO:NetworkRunner:Elapsed time: 54.88s\n",
      "INFO:NetworkRunner:Traces saved in: traces/\n",
      "INFO:NetworkRunner:Input file: body_acc_x_TEST\n",
      "INFO:NetworkRunner:Wrote to file (label=4, sequenceNumber=10)\n",
      "INFO:NetworkRunner:Elapsed time: 3.62s\n",
      "INFO:NetworkRunner:Wrote to file (label=4, sequenceNumber=20)\n",
      "INFO:NetworkRunner:Elapsed time: 7.24s\n",
      "INFO:NetworkRunner:Wrote to file (label=4, sequenceNumber=30)\n",
      "INFO:NetworkRunner:Elapsed time: 10.94s\n",
      "INFO:NetworkRunner:Wrote to file (label=3, sequenceNumber=40)\n",
      "INFO:NetworkRunner:Elapsed time: 14.73s\n",
      "INFO:NetworkRunner:Wrote to file (label=3, sequenceNumber=50)\n",
      "INFO:NetworkRunner:Elapsed time: 18.20s\n",
      "INFO:NetworkRunner:Wrote to file (label=3, sequenceNumber=60)\n",
      "INFO:NetworkRunner:Elapsed time: 21.80s\n",
      "INFO:NetworkRunner:Wrote to file (label=5, sequenceNumber=70)\n",
      "INFO:NetworkRunner:Elapsed time: 25.45s\n",
      "INFO:NetworkRunner:Wrote to file (label=5, sequenceNumber=80)\n",
      "INFO:NetworkRunner:Elapsed time: 29.12s\n",
      "INFO:NetworkRunner:Wrote to file (label=5, sequenceNumber=90)\n",
      "INFO:NetworkRunner:Elapsed time: 32.63s\n",
      "INFO:NetworkRunner:Wrote to file (label=0, sequenceNumber=100)\n",
      "INFO:NetworkRunner:Elapsed time: 36.23s\n",
      "INFO:NetworkRunner:Wrote to file (label=0, sequenceNumber=110)\n",
      "INFO:NetworkRunner:Elapsed time: 38.86s\n",
      "INFO:NetworkRunner:Wrote to file (label=0, sequenceNumber=120)\n",
      "INFO:NetworkRunner:Elapsed time: 41.47s\n",
      "INFO:NetworkRunner:Wrote to file (label=0, sequenceNumber=130)\n",
      "INFO:NetworkRunner:Elapsed time: 44.23s\n",
      "INFO:NetworkRunner:Wrote to file (label=2, sequenceNumber=140)\n",
      "INFO:NetworkRunner:Elapsed time: 46.77s\n",
      "INFO:NetworkRunner:Wrote to file (label=2, sequenceNumber=150)\n",
      "INFO:NetworkRunner:Elapsed time: 49.61s\n",
      "INFO:NetworkRunner:Wrote to file (label=2, sequenceNumber=160)\n",
      "INFO:NetworkRunner:Elapsed time: 52.19s\n",
      "INFO:NetworkRunner:Wrote to file (label=1, sequenceNumber=170)\n",
      "INFO:NetworkRunner:Elapsed time: 55.06s\n",
      "INFO:NetworkRunner:Wrote to file (label=1, sequenceNumber=180)\n",
      "INFO:NetworkRunner:Elapsed time: 58.38s\n",
      "INFO:NetworkRunner:Wrote to file (label=1, sequenceNumber=190)\n",
      "INFO:NetworkRunner:Elapsed time: 61.67s\n",
      "INFO:NetworkRunner:Wrote to file (label=4, sequenceNumber=200)\n",
      "INFO:NetworkRunner:Elapsed time: 65.49s\n",
      "INFO:NetworkRunner:Wrote to file (label=3, sequenceNumber=210)\n",
      "INFO:NetworkRunner:Elapsed time: 70.62s\n",
      "INFO:NetworkRunner:Wrote to file (label=3, sequenceNumber=220)\n",
      "INFO:NetworkRunner:Elapsed time: 75.69s\n",
      "INFO:NetworkRunner:Wrote to file (label=5, sequenceNumber=230)\n",
      "INFO:NetworkRunner:Elapsed time: 80.53s\n",
      "INFO:NetworkRunner:Wrote to file (label=5, sequenceNumber=240)\n",
      "INFO:NetworkRunner:Elapsed time: 85.23s\n",
      "INFO:NetworkRunner:Wrote to file (label=0, sequenceNumber=250)\n",
      "INFO:NetworkRunner:Elapsed time: 89.48s\n",
      "INFO:NetworkRunner:Wrote to file (label=2, sequenceNumber=260)\n",
      "INFO:NetworkRunner:Elapsed time: 92.93s\n",
      "INFO:NetworkRunner:Wrote to file (label=2, sequenceNumber=270)\n",
      "INFO:NetworkRunner:Elapsed time: 96.07s\n",
      "INFO:NetworkRunner:Wrote to file (label=1, sequenceNumber=280)\n",
      "INFO:NetworkRunner:Elapsed time: 99.34s\n",
      "INFO:NetworkRunner:Wrote to file (label=1, sequenceNumber=290)\n",
      "INFO:NetworkRunner:Elapsed time: 103.38s\n",
      "INFO:NetworkRunner:Traces saved in: traces/\n",
      "INFO:NetworkRunner:Input file: synthetic_control_TRAIN\n",
      "INFO:NetworkRunner:Wrote to file (label=1, sequenceNumber=10)\n",
      "INFO:NetworkRunner:Elapsed time: 0.69s\n",
      "INFO:NetworkRunner:Wrote to file (label=1, sequenceNumber=20)\n",
      "INFO:NetworkRunner:Elapsed time: 1.50s\n",
      "INFO:NetworkRunner:Wrote to file (label=1, sequenceNumber=30)\n",
      "INFO:NetworkRunner:Elapsed time: 2.35s\n",
      "INFO:NetworkRunner:Wrote to file (label=1, sequenceNumber=40)\n",
      "INFO:NetworkRunner:Elapsed time: 3.22s\n",
      "INFO:NetworkRunner:Wrote to file (label=1, sequenceNumber=50)\n",
      "INFO:NetworkRunner:Elapsed time: 4.09s\n"
     ]
    }
   ],
   "source": [
    "import os; print 'Current working directory:', os.getcwd()\n",
    "%run network_runner_sequences.py --config configs/debug.yml\n",
    "%run network_runner_sequences.py --config configs/body_acc_x.yml\n",
    "%run network_runner_sequences.py --config configs/synthetic_control.yml\n",
    "%run network_runner_sequences.py --config configs/test1.yml"
   ]
  },
  {
   "cell_type": "code",
   "execution_count": null,
   "metadata": {
    "collapsed": false,
    "deletable": true,
    "editable": true
   },
   "outputs": [],
   "source": [
    "dfs = {}"
   ]
  },
  {
   "cell_type": "code",
   "execution_count": null,
   "metadata": {
    "collapsed": true,
    "deletable": true,
    "editable": true
   },
   "outputs": [],
   "source": [
    "phase = 'TRAIN'\n",
    "dfs['Test1_%s' %phase] = load_df('traces/trace_Test1_%s' %phase)"
   ]
  },
  {
   "cell_type": "code",
   "execution_count": null,
   "metadata": {
    "collapsed": true,
    "deletable": true,
    "editable": true
   },
   "outputs": [],
   "source": [
    "phase = 'TRAIN'\n",
    "dfs['synthetic_control_%s' %phase] = load_df('traces/trace_synthetic_control_%s' %phase)"
   ]
  },
  {
   "cell_type": "code",
   "execution_count": null,
   "metadata": {
    "collapsed": true,
    "deletable": true,
    "editable": true
   },
   "outputs": [],
   "source": [
    "# phase = 'TRAIN'\n",
    "# dfs['body_acc_x_%s' %phase] = load_df('traces/trace_body_acc_x_%s' %phase)"
   ]
  },
  {
   "cell_type": "code",
   "execution_count": 48,
   "metadata": {
    "collapsed": false,
    "deletable": true,
    "editable": true
   },
   "outputs": [],
   "source": [
    "# phase = 'TEST'\n",
    "# dfs['Test1_%s' %phase] = load_df('traces/trace_Test1_%s' %phase)"
   ]
  },
  {
   "cell_type": "code",
   "execution_count": null,
   "metadata": {
    "collapsed": true,
    "deletable": true,
    "editable": true
   },
   "outputs": [],
   "source": [
    "# phase = 'TEST'\n",
    "# dfs['synthetic_control_%s' %phase] = load_df('traces/trace_synthetic_control_%s' %phase)"
   ]
  },
  {
   "cell_type": "code",
   "execution_count": 47,
   "metadata": {
    "collapsed": true,
    "deletable": true,
    "editable": true
   },
   "outputs": [],
   "source": [
    "# phase = 'TEST'\n",
    "# dfs['body_acc_x_%s' %phase] = load_df('traces/trace_body_acc_x_%s' %phase)"
   ]
  },
  {
   "cell_type": "code",
   "execution_count": null,
   "metadata": {
    "collapsed": false,
    "deletable": true,
    "editable": true
   },
   "outputs": [],
   "source": [
    "def plot_mat(embeddings_mat, embedding_name, dataset_name, aggregation):\n",
    "    plt.figure(figsize=(5,4))\n",
    "    heatmap = plt.pcolor(embeddings_mat, cmap=plt.cm.Blues)\n",
    "    plt.colorbar(heatmap)\n",
    "    plt.xlabel('Sequence #')\n",
    "    plt.ylabel('Sequence #')\n",
    "    plt.title('%s sequence embeddings\\n'\n",
    "              'Data: %s\\n'\n",
    "              'Aggregation: %s' % (embedding_name, dataset_name, aggregation))\n",
    "\n",
    "\n",
    "def plot_projections(embeddings_proj, labels, embedding_name):\n",
    "\n",
    "    # Colors \n",
    "    unique_labels = list(set(list(labels)))\n",
    "    nb_colors = len(unique_labels)\n",
    "    color_names = ['Class %s' %l for l in unique_labels]\n",
    "    colors = sns.color_palette('colorblind', nb_colors) \n",
    "    \n",
    "    # Plot projections\n",
    "    plt.figure(figsize=(5,5))\n",
    "    plt.title('%s sequence embeddings 2D projections' %embedding_name)\n",
    "    plt.scatter(embeddings_proj[:,0], embeddings_proj[:,1], c=[colors[unique_labels.index(l)] for l in labels])\n",
    "\n",
    "    # Add legend\n",
    "    patches = [mpatches.Patch(color=colors[i], label=color_names[i]) for i in range(nb_colors)]\n",
    "    plt.legend(handles=patches, loc=2, bbox_to_anchor=(1.05, 1)) # plot the legend to the right\n",
    "\n",
    "\n",
    "def analyze_traces(df, name, aggregations=['mean'], nb_chunks=10):\n",
    "    for aggregation in aggregations:\n",
    "\n",
    "        # Embeddings\n",
    "        sorted_df =  df.sort_values('label') # sort by label, it's easier to read this way.\n",
    "        labels = df.label.values\n",
    "        sp_sdrs_sequences = sorted_df.spActiveColumns.values\n",
    "        tm_sdrs_sequences = sorted_df.tmPredictedActiveCells.values\n",
    "        sp_embeddings = sequence_embeddings(sp_sdrs_sequences, aggregation, nb_chunks)\n",
    "        tm_embeddings = sequence_embeddings(tm_sdrs_sequences, aggregation, nb_chunks)\n",
    "        assert len(sp_embeddings) == len(tm_embeddings)\n",
    "\n",
    "        # Distance matrices\n",
    "        sp_mat, tm_mat, combined_mat = distance_mats(sp_embeddings, tm_embeddings)\n",
    "        \n",
    "        # tSNE projections\n",
    "        sp_embeddings_proj = project_embeddings(sp_embeddings, 'SP')\n",
    "        tm_embeddings_proj = project_embeddings(tm_embeddings, 'TM')\n",
    "\n",
    "        # Plot tSNE projections\n",
    "        plot_projections(sp_embeddings_proj, labels, 'SP')\n",
    "        plot_projections(tm_embeddings_proj, labels, 'TM')\n",
    "        \n",
    "        # Plot distance matrices\n",
    "        plot_mat(sp_mat, 'SP', name, aggregation)\n",
    "        plot_mat(tm_mat, 'TM', name, aggregation)\n",
    "        plot_mat(combined_mat, 'Combined', name, aggregation)\n"
   ]
  },
  {
   "cell_type": "code",
   "execution_count": null,
   "metadata": {
    "collapsed": false,
    "deletable": true,
    "editable": true,
    "scrolled": false
   },
   "outputs": [],
   "source": [
    "name = 'Test1_%s' % phase\n",
    "df = dfs[name]\n",
    "analyze_traces(df, name, nb_chunks=10)"
   ]
  },
  {
   "cell_type": "code",
   "execution_count": null,
   "metadata": {
    "collapsed": false,
    "deletable": true,
    "editable": true,
    "scrolled": false
   },
   "outputs": [],
   "source": [
    "name = 'synthetic_control_%s' % phase\n",
    "df = dfs[name]\n",
    "analyze_traces(df, name, nb_chunks=20)"
   ]
  },
  {
   "cell_type": "code",
   "execution_count": null,
   "metadata": {
    "collapsed": false,
    "deletable": true,
    "editable": true
   },
   "outputs": [],
   "source": [
    "name = 'body_acc_x_%s' % phase\n",
    "df = dfs[name]\n",
    "analyze_traces(df, name, nb_chunks=10)"
   ]
  },
  {
   "cell_type": "code",
   "execution_count": null,
   "metadata": {
    "collapsed": true
   },
   "outputs": [],
   "source": []
  }
 ],
 "metadata": {
  "kernelspec": {
   "display_name": "Python 2",
   "language": "python",
   "name": "python2"
  },
  "language_info": {
   "codemirror_mode": {
    "name": "ipython",
    "version": 2
   },
   "file_extension": ".py",
   "mimetype": "text/x-python",
   "name": "python",
   "nbconvert_exporter": "python",
   "pygments_lexer": "ipython2",
   "version": "2.7.10"
  }
 },
 "nbformat": 4,
 "nbformat_minor": 2
}
