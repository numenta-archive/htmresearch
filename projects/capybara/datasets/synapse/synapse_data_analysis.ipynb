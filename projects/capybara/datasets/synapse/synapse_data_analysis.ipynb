{
 "cells": [
  {
   "cell_type": "code",
   "execution_count": null,
   "metadata": {
    "collapsed": false,
    "deletable": true,
    "editable": true,
    "scrolled": false
   },
   "outputs": [],
   "source": [
    "# This assumes that you already ran: python download_synapse_data.py\n",
    "\n",
    "#import plotly.plotly as py\n",
    "\n",
    "import plotly.offline as py\n",
    "py.init_notebook_mode() # plotly offline mode\n",
    "\n",
    "import plotly.graph_objs as go\n",
    "\n",
    "import pandas as pd\n",
    "import glob\n",
    "import os\n",
    "\n",
    "data_dir = '~/_git/nupic.research/projects/capybara/datasets/synapse/data'\n",
    "csv_files = ['controls_accel_walking_outbound.csv',\n",
    "            #'controls_accel_walking_return.csv',\n",
    "            'controls_accel_walking_rest.csv',\n",
    "            'has_pd_accel_walking_outbound.csv',\n",
    "            #'has_pd_accel_walking_return.csv',\n",
    "            'has_pd_accel_walking_rest.csv',]\n",
    "\n",
    "def plot_df(df, title):\n",
    "    ax = ['x', 'y', 'z']\n",
    "    data = [go.Scatter(y=df[a], name=a) for a in ax]\n",
    "\n",
    "    layout = go.Layout(title=title, \n",
    "                xaxis=go.XAxis(title='Timestep'), \n",
    "                yaxis=go.YAxis(title='{x, y, z} coordinates in Gs'))\n",
    "\n",
    "    py.iplot({'data': data, 'layout': layout}, show_link=False)\n",
    "    \n",
    "for csv_file_path in csv_files:\n",
    "    csv_file = os.path.join(data_dir, csv_file_path)\n",
    "    df = pd.read_csv(csv_file)\n",
    "    df.describe()\n",
    "    plot_df(df, csv_file_path)\n",
    "    "
   ]
  }
 ],
 "metadata": {
  "kernelspec": {
   "display_name": "Python 2",
   "language": "python",
   "name": "python2"
  },
  "language_info": {
   "codemirror_mode": {
    "name": "ipython",
    "version": 2
   },
   "file_extension": ".py",
   "mimetype": "text/x-python",
   "name": "python",
   "nbconvert_exporter": "python",
   "pygments_lexer": "ipython2",
   "version": "2.7.10"
  }
 },
 "nbformat": 4,
 "nbformat_minor": 1
}
