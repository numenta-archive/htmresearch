{
 "cells": [
  {
   "cell_type": "code",
   "execution_count": 1,
   "metadata": {
    "collapsed": true
   },
   "outputs": [],
   "source": [
    "# ----------------------------------------------------------------------\n",
    "# Numenta Platform for Intelligent Computing (NuPIC)\n",
    "# Copyright (C) 2016, Numenta, Inc.  Unless you have an agreement\n",
    "# with Numenta, Inc., for a separate license for this software code, the\n",
    "# following terms and conditions apply:\n",
    "#\n",
    "# This program is free software: you can redistribute it and/or modify\n",
    "# it under the terms of the GNU Affero Public License version 3 as\n",
    "# published by the Free Software Foundation.\n",
    "#\n",
    "# This program is distributed in the hope that it will be useful,\n",
    "# but WITHOUT ANY WARRANTY; without even the implied warranty of\n",
    "# MERCHANTABILITY or FITNESS FOR A PARTICULAR PURPOSE.\n",
    "# See the GNU Affero Public License for more details.\n",
    "#\n",
    "# You should have received a copy of the GNU Affero Public License\n",
    "# along with this program.  If not, see http://www.gnu.org/licenses.\n",
    "#\n",
    "# http://numenta.org/licenses/\n",
    "# ----------------------------------------------------------------------\n",
    "\n",
    "\n",
    "from sympy import *\n",
    "init_printing()\n",
    "from IPython.display import display\n",
    "\n",
    "%matplotlib inline\n",
    "\n",
    "import numpy as np\n",
    "import matplotlib as mpl\n",
    "import matplotlib.pyplot as plt\n",
    "\n",
    "mpl.rcParams['pdf.fonttype'] = 42"
   ]
  },
  {
   "cell_type": "code",
   "execution_count": 2,
   "metadata": {},
   "outputs": [],
   "source": [
    "# number of columns\n",
    "n = Symbol(\"n\", positive=True)\n",
    "\n",
    "# number of cells per column\n",
    "m = Symbol(\"m\", positive=True)\n",
    "\n",
    "# number of active bits\n",
    "w = Symbol(\"w\", positive=True)\n",
    "\n",
    "# match thresh\n",
    "b = Symbol(\"b\", positive=True)"
   ]
  },
  {
   "cell_type": "code",
   "execution_count": 12,
   "metadata": {},
   "outputs": [
    {
     "data": {
      "text/plain": [
       "'raw feature capacity'"
      ]
     },
     "metadata": {},
     "output_type": "display_data"
    },
    {
     "data": {
      "image/png": "[encoded data removed]",
      "text/latex": [
       "$$1.16955429822231 \\cdot 10^{15}$$"
      ],
      "text/plain": [
       "1.16955429822231e+15"
      ]
     },
     "metadata": {},
     "output_type": "display_data"
    },
    {
     "data": {
      "text/plain": [
       "'inexact matches for each template: '"
      ]
     },
     "metadata": {},
     "output_type": "display_data"
    },
    {
     "data": {
      "image/png": "[encoded data removed]",
      "text/latex": [
       "$$54148850.0$$"
      ],
      "text/plain": [
       "54148850.0000000"
      ]
     },
     "metadata": {},
     "output_type": "display_data"
    },
    {
     "data": {
      "text/plain": [
       "'feature capacity after adjusting inexact matches: '"
      ]
     },
     "metadata": {},
     "output_type": "display_data"
    },
    {
     "data": {
      "image/png": "[encoded data removed]",
      "text/latex": [
       "$$21598876.0282501$$"
      ],
      "text/plain": [
       "21598876.0282501"
      ]
     },
     "metadata": {},
     "output_type": "display_data"
    }
   ],
   "source": [
    "nColL4Val = 150\n",
    "wVal = 10\n",
    "bVal = 7\n",
    "mVal = 16\n",
    "\n",
    "nCw = factorial(n) / (factorial(w) * factorial(n - w))\n",
    "overlapSet = binomial(w, b) * binomial(n - w, w - b)\n",
    "\n",
    "numPts = nCw.subs(n, nColL4Val).subs(w, wVal)\n",
    "display(\"raw feature capacity\", numPts.evalf()) \n",
    "\n",
    "sizeOverlapSet = 0\n",
    "for bVal in range(7, 10):\n",
    "    sizeOverlapSet += overlapSet.subs(w, wVal).subs(n, nColL4Val).subs(b, bVal)\n",
    "\n",
    "display(\"inexact matches for each template: \", sizeOverlapSet.evalf())\n",
    "\n",
    "numFeatures = numPts / sizeOverlapSet\n",
    "\n",
    "display(\"feature capacity after adjusting inexact matches: \", numFeatures.evalf())"
   ]
  },
  {
   "cell_type": "code",
   "execution_count": 14,
   "metadata": {},
   "outputs": [
    {
     "data": {
      "text/plain": [
       "'raw location capacity: '"
      ]
     },
     "metadata": {},
     "output_type": "display_data"
    },
    {
     "data": {
      "image/png": "[encoded data removed]",
      "text/latex": [
       "$$1099511627776.0$$"
      ],
      "text/plain": [
       "1099511627776.00"
      ]
     },
     "metadata": {},
     "output_type": "display_data"
    },
    {
     "data": {
      "text/plain": [
       "'location capacity after adjusting inexact matches: '"
      ]
     },
     "metadata": {},
     "output_type": "display_data"
    },
    {
     "data": {
      "image/png": "[encoded data removed]",
      "text/latex": [
       "$$2185039.00591415$$"
      ],
      "text/plain": [
       "2185039.00591415"
      ]
     },
     "metadata": {},
     "output_type": "display_data"
    }
   ],
   "source": [
    "mtow = pow(m, w)\n",
    "numPts = mtow.subs(m, mVal).subs(w, wVal)\n",
    "sizeInexactMatch = 0\n",
    "for bVal in range(7, 10):\n",
    "    sizeInexactMatch += nCw.subs(n, wVal).subs(w, bVal) * pow(mVal, wVal-bVal)\n",
    "\n",
    "numLocations = numPts / sizeInexactMatch\n",
    "display(\"raw location capacity: \", numPts.evalf()) \n",
    "display(\"location capacity after adjusting inexact matches: \", numLocations.evalf())"
   ]
  },
  {
   "cell_type": "markdown",
   "metadata": {},
   "source": [
    "Verify capacity calculation with simulation"
   ]
  },
  {
   "cell_type": "code",
   "execution_count": 16,
   "metadata": {},
   "outputs": [
    {
     "data": {
      "text/plain": [
       "'mean overlap'"
      ]
     },
     "metadata": {},
     "output_type": "display_data"
    },
    {
     "data": {
      "image/png": "[encoded data removed]",
      "text/latex": [
       "$$0.04265$$"
      ],
      "text/plain": [
       "0.04265"
      ]
     },
     "metadata": {},
     "output_type": "display_data"
    },
    {
     "data": {
      "text/plain": [
       "'max overlap'"
      ]
     },
     "metadata": {},
     "output_type": "display_data"
    },
    {
     "data": {
      "text/plain": [
       "3"
      ]
     },
     "metadata": {},
     "output_type": "display_data"
    }
   ],
   "source": [
    "def generateL4SDR(n=150, m=16, w=10):\n",
    "  colOrder = np.random.permutation(np.arange(n))\n",
    "  activeCols = colOrder[:w]\n",
    "  activeCells = np.random.randint(low=0, high=m, size=(w, ))\n",
    "\n",
    "  activeBits = activeCols * m + activeCells\n",
    "  return set(activeBits), set(activeCols)\n",
    "\n",
    "numRpts = 100000\n",
    "overlap = []\n",
    "for rpt in range(numRpts):\n",
    "    sdr1, sdr1cols = generateL4SDR()\n",
    "    sdr2, sdr2cols = generateL4SDR()\n",
    "    overlap.append(len(sdr1.intersection(sdr2)))\n",
    "overlap = np.array(overlap)\n",
    "display(\"mean overlap\", np.mean(overlap)) \n",
    "display(\"max overlap\", np.max(overlap))"
   ]
  },
  {
   "cell_type": "code",
   "execution_count": null,
   "metadata": {
    "collapsed": true
   },
   "outputs": [],
   "source": []
  }
 ],
 "metadata": {
  "kernelspec": {
   "display_name": "Python 2",
   "language": "python",
   "name": "python2"
  },
  "language_info": {
   "codemirror_mode": {
    "name": "ipython",
    "version": 3
   },
   "file_extension": ".py",
   "mimetype": "text/x-python",
   "name": "python",
   "nbconvert_exporter": "python",
   "pygments_lexer": "ipython3",
   "version": "3.6.1"
  }
 },
 "nbformat": 4,
 "nbformat_minor": 1
}
