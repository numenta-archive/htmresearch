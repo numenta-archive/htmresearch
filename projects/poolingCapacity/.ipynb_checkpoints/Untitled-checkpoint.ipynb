{
 "cells": [
  {
   "cell_type": "code",
   "execution_count": 107,
   "metadata": {
    "collapsed": true
   },
   "outputs": [],
   "source": [
    "from sympy import *\n",
    "init_printing()\n",
    "from IPython.display import display\n",
    "\n",
    "%matplotlib inline\n",
    "\n",
    "import numpy as np\n",
    "import matplotlib as mpl\n",
    "import matplotlib.pyplot as plt\n",
    "\n",
    "mpl.rcParams['pdf.fonttype'] = 42"
   ]
  },
  {
   "cell_type": "code",
   "execution_count": 25,
   "metadata": {
    "collapsed": false
   },
   "outputs": [
    {
     "data": {
      "image/png": "[encoded data removed]",
      "text/latex": [
       "$${\\binom{n}{w}} = \\frac{n!}{w! \\left(n - w\\right)!}$$"
      ],
      "text/plain": [
       "⎛n⎞        n!    \n",
       "⎜ ⎟ = ───────────\n",
       "⎝w⎠   w!⋅(n - w)!"
      ]
     },
     "metadata": {},
     "output_type": "display_data"
    }
   ],
   "source": [
    "nColL4 = Symbol(\"nColL4\", positive=True)\n",
    "nCellPerColL4 = Symbol(\"nCellPerColL4\", positive=True)\n",
    "\n",
    "n = Symbol(\"n\", positive=True)\n",
    "m = Symbol(\"m\", positive=True)\n",
    "# number of active bits\n",
    "w = Symbol(\"w\", positive=True)\n",
    "b = Symbol(\"b\", positive=True)\n",
    "# match thresh\n",
    "theta = Symbol(\"theta\", positive=True)\n",
    "\n",
    "nCw = factorial(n) / (factorial(w) * factorial(n - w))\n",
    "overlapSet = binomial(w, b) * binomial(n - w, w - b)\n",
    "numFeatures = factorial(n) / (factorial(w) * factorial(n - w))/(binomial(w, b) * binomial(n - w, w - b))\n",
    "display(Eq(binomial(n, w), nCw))"
   ]
  },
  {
   "cell_type": "code",
   "execution_count": 57,
   "metadata": {
    "collapsed": false
   },
   "outputs": [
    {
     "name": "stdout",
     "output_type": "stream",
     "text": [
      "2.37177851164536e+84\n",
      "5.90869466339081e+58\n",
      "4.01404818959501e+25\n"
     ]
    }
   ],
   "source": [
    "nColL4Val = 2048\n",
    "wVal = 40\n",
    "bVal = 20\n",
    "mVal = 32\n",
    "\n",
    "numPts = nCw.subs(n, nColL4Val).subs(w, wVal)\n",
    "print numPts.evalf()\n",
    "\n",
    "sizeOverlapSet = 0\n",
    "for bVal in range(20, 40):\n",
    "    sizeOverlapSet += overlapSet.subs(w, wVal).subs(n, nColL4Val).subs(b, bVal)\n",
    "\n",
    "print sizeOverlapSet.evalf()\n",
    "\n",
    "numFeatures = numPts / sizeOverlapSet\n",
    "\n",
    "#numFeature = numFeatures.subs(n, nColL4Val).subs(w, wVal).subs(b, bVal)\n",
    "print numFeatures.evalf()"
   ]
  },
  {
   "cell_type": "code",
   "execution_count": 64,
   "metadata": {
    "collapsed": false
   },
   "outputs": [
    {
     "name": "stdout",
     "output_type": "stream",
     "text": [
      "1.60693804425899e+60\n",
      "8.92318340962837e+18\n"
     ]
    }
   ],
   "source": [
    "mtow = pow(m, w)\n",
    "numPts = mtow.subs(m, mVal).subs(w, wVal)\n",
    "sizeInexactMatch = 0\n",
    "for bVal in range(20, 40):\n",
    "    sizeInexactMatch += nCw.subs(n, wVal).subs(w, bVal) * pow(mVal, wVal-bVal)\n",
    "\n",
    "numLocations = numPts / sizeInexactMatch\n",
    "print numPts.evalf()\n",
    "print numLocations.evalf()"
   ]
  },
  {
   "cell_type": "code",
   "execution_count": 56,
   "metadata": {
    "collapsed": false
   },
   "outputs": [
    {
     "name": "stdout",
     "output_type": "stream",
     "text": [
      "2.72969316805059\n",
      "4.63237990555734e+82\n"
     ]
    }
   ],
   "source": [
    "print numFeatures.evalf()\n",
    "numPts = nCw.subs(n, nColL4Val-1).subs(w, wVal-1)\n",
    "print numPts.evalf()"
   ]
  },
  {
   "cell_type": "code",
   "execution_count": 99,
   "metadata": {
    "collapsed": false
   },
   "outputs": [
    {
     "name": "stdout",
     "output_type": "stream",
     "text": [
      "0.000610351562500000\n"
     ]
    }
   ],
   "source": [
    "p = Symbol(\"p\", positive=True)\n",
    "k = Symbol(\"k\", positive=True)\n",
    "pValCell = float(wVal)/(nColL4Val*mVal)\n",
    "pValCol = float(wVal)/(nColL4Val)\n",
    "pActive = 1-pow(1-p, k)\n",
    "\n",
    "                    \n",
    "print pActive.subs(p, pVal).subs(k, 1).evalf()\n",
    "\n",
    "numCellsVsK = []\n",
    "numColsVsK = []\n",
    "numCellPerColumnVsK = []\n",
    "for kVal in range(200):\n",
    "    numCellsVsK.append(nColL4Val*mVal*pActive.subs(p, pVal).subs(k, kVal).evalf())\n",
    "    numColsVsK.append(nColL4Val*1*pActive.subs(p, pValCol).subs(k, kVal).evalf())    \n",
    "    \n",
    "    numCellPerColumnVsK.append(numCellsVsK[-1]/numColsVsK[-1])\n"
   ]
  },
  {
   "cell_type": "code",
   "execution_count": 108,
   "metadata": {
    "collapsed": false
   },
   "outputs": [
    {
     "data": {
      "image/png": "[encoded data removed]",
      "text/plain": [
       "<matplotlib.figure.Figure at 0x115031310>"
      ]
     },
     "metadata": {},
     "output_type": "display_data"
    }
   ],
   "source": [
    "fig, ax = plt.subplots(1, 2)\n",
    "ax[0].plot(numCellsVsK)\n",
    "ax[0].plot(numColsVsK,'r')\n",
    "\n",
    "ax[0].set_xlabel(\"# (feature, object) pair\")\n",
    "ax[0].set_ylabel(\"# active bits in union\")\n",
    "ax[0].legend(['Cell', 'Column'])\n",
    "\n",
    "ax[1].plot(numCellPerColumnVsK)\n",
    "ax[1].set_xlabel(\"# (feature, object) pair\")\n",
    "ax[1].set_ylabel(\"# cell per column\")\n",
    "\n",
    "plt.savefig('UnionSizeVsK.pdf')"
   ]
  },
  {
   "cell_type": "code",
   "execution_count": null,
   "metadata": {
    "collapsed": false
   },
   "outputs": [],
   "source": [
    "\n",
    "n = Symbol(\"n\", positive=True)\n",
    "m = Symbol(\"m\", positive=True)\n",
    "# number of active bits\n",
    "w = Symbol(\"w\", positive=True)\n",
    "b = Symbol(\"b\", positive=True)\n",
    "theta = Symbol(\"theta\", positive=True)\n",
    "\n",
    "\n",
    "nColL4Val = 2048\n",
    "wVal = 40\n",
    "mVal = 32\n",
    "kVal = 200\n",
    "thetaVal = 20\n",
    "\n",
    "numCellsInUnion = n*m*(1-pow(1-w/(n*m), k))\n",
    "numColsInUnion = n*(1-pow(1-w/n, k))                       \n",
    "numCellsPerColumn = numCellsInUnion / numColsInUnion\n",
    "\n",
    "print \"numColsInUnion: \", numColsInUnion.subs(n, nColL4Val).subs(w, wVal).subs(k,kVal).evalf()\n",
    "print \"numCellsPerColumn: \", numCellsPerColumn.subs(n, nColL4Val).subs(w, wVal).subs(k,kVal).subs(m, mVal).evalf()\n",
    "\n",
    "overlapSet = binomial(w, b) * binomial(n - w, w - b)\n",
    "numFeatureInexactMatch = 0\n",
    "for bVal in range(20, 40):\n",
    "    numFeatureInexactMatch += overlapSet.subs(w, wVal).subs(n, nColL4Val).subs(b, bVal)\n",
    "\n",
    "numFeaturePts = nCw.subs(n, nColL4Val).subs(w, wVal)    \n",
    "numFeatureCapacity = numFeaturePts / numFeatureInexactMatch\n",
    "    \n",
    "mtow = pow(m, w)\n",
    "numLocationPts = mtow.subs(m, mVal).subs(w, wVal)\n",
    "numLocationInexactMatch = 0\n",
    "for bVal in range(20, 40):\n",
    "    numLocationInexactMatch += nCw.subs(n, wVal).subs(w, bVal) * pow(mVal, wVal-bVal)\n",
    "numLocationCapacity = numLocationPts / numLocationInexactMatch\n",
    "    \n",
    "numMatchCounts = binomial(numColsInUnion, theta) * binomial(n - numColsInUnion, w - theta) * pow(theta, numCellsPerColumn) * pow(w - theta, m)\n",
    "numMatchCountsVal = numMatchCounts.subs(n, nColL4Val).subs(w, wVal).subs(m, mVal).subs(k, kVal).subs(theta, thetaVal)\n",
    "\n",
    "falseMatch = numMatchCountsVal / (numFeaturePts * numLocationPts)\n",
    "\n",
    "falseMatch.evalf()"
   ]
  },
  {
   "cell_type": "code",
   "execution_count": null,
   "metadata": {
    "collapsed": false
   },
   "outputs": [],
   "source": [
    "\n",
    "n = Symbol(\"n\", positive=True)\n",
    "m = Symbol(\"m\", positive=True)\n",
    "# number of active bits\n",
    "w = Symbol(\"w\", positive=True)\n",
    "b = Symbol(\"b\", positive=True)\n",
    "theta = Symbol(\"theta\", positive=True)\n",
    "\n",
    "\n",
    "nColL4Val = 2048\n",
    "wVal = 40\n",
    "mVal = 32\n",
    "kVal = 200\n",
    "thetaVal = 20\n",
    "\n",
    "numCellsInUnion = n*m*(1-pow(1-w/(n*m), k))\n",
    "numColsInUnion = n*(1-pow(1-w/n, k))                       \n",
    "numCellsPerColumn = numCellsInUnion / numColsInUnion\n",
    "\n",
    "print \"numColsInUnion: \", numColsInUnion.subs(n, nColL4Val).subs(w, wVal).subs(k,kVal).evalf()\n",
    "print \"numCellsPerColumn: \", numCellsPerColumn.subs(n, nColL4Val).subs(w, wVal).subs(k,kVal).subs(m, mVal).evalf()\n"
   ]
  },
  {
   "cell_type": "code",
   "execution_count": null,
   "metadata": {
    "collapsed": false
   },
   "outputs": [],
   "source": [
    "print falseMatch"
   ]
  },
  {
   "cell_type": "code",
   "execution_count": null,
   "metadata": {
    "collapsed": true
   },
   "outputs": [],
   "source": []
  }
 ],
 "metadata": {
  "kernelspec": {
   "display_name": "Python 2",
   "language": "python",
   "name": "python2"
  },
  "language_info": {
   "codemirror_mode": {
    "name": "ipython",
    "version": 2
   },
   "file_extension": ".py",
   "mimetype": "text/x-python",
   "name": "python",
   "nbconvert_exporter": "python",
   "pygments_lexer": "ipython2",
   "version": "2.7.10"
  }
 },
 "nbformat": 4,
 "nbformat_minor": 0
}
