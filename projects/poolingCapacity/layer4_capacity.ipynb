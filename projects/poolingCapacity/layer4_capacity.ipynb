{
 "cells": [
  {
   "cell_type": "code",
   "execution_count": 1,
   "metadata": {
    "collapsed": true
   },
   "outputs": [],
   "source": [
    "# ----------------------------------------------------------------------\n",
    "# Numenta Platform for Intelligent Computing (NuPIC)\n",
    "# Copyright (C) 2016, Numenta, Inc.  Unless you have an agreement\n",
    "# with Numenta, Inc., for a separate license for this software code, the\n",
    "# following terms and conditions apply:\n",
    "#\n",
    "# This program is free software: you can redistribute it and/or modify\n",
    "# it under the terms of the GNU Affero Public License version 3 as\n",
    "# published by the Free Software Foundation.\n",
    "#\n",
    "# This program is distributed in the hope that it will be useful,\n",
    "# but WITHOUT ANY WARRANTY; without even the implied warranty of\n",
    "# MERCHANTABILITY or FITNESS FOR A PARTICULAR PURPOSE.\n",
    "# See the GNU Affero Public License for more details.\n",
    "#\n",
    "# You should have received a copy of the GNU Affero Public License\n",
    "# along with this program.  If not, see http://www.gnu.org/licenses.\n",
    "#\n",
    "# http://numenta.org/licenses/\n",
    "# ----------------------------------------------------------------------\n",
    "\n",
    "\n",
    "from sympy import *\n",
    "init_printing()\n",
    "from IPython.display import display\n",
    "\n",
    "%matplotlib inline\n",
    "\n",
    "import numpy as np\n",
    "import matplotlib as mpl\n",
    "import matplotlib.pyplot as plt\n",
    "\n",
    "mpl.rcParams['pdf.fonttype'] = 42"
   ]
  },
  {
   "cell_type": "code",
   "execution_count": 2,
   "metadata": {
    "collapsed": false
   },
   "outputs": [],
   "source": [
    "# number of columns\n",
    "n = Symbol(\"n\", positive=True)\n",
    "\n",
    "# number of cells per column\n",
    "m = Symbol(\"m\", positive=True)\n",
    "\n",
    "# number of active bits\n",
    "w = Symbol(\"w\", positive=True)\n",
    "\n",
    "# match thresh\n",
    "b = Symbol(\"b\", positive=True)"
   ]
  },
  {
   "cell_type": "code",
   "execution_count": 3,
   "metadata": {
    "collapsed": false
   },
   "outputs": [
    {
     "name": "stdout",
     "output_type": "stream",
     "text": [
      "raw feature capacity 2.37177851164536e+84\n",
      "inexact matches for each template:  5.90869466339081e+58\n",
      "feature capacity after adjusting inexact matches:  4.01404818959501e+25\n"
     ]
    }
   ],
   "source": [
    "nColL4Val = 2048\n",
    "wVal = 40\n",
    "bVal = 20\n",
    "mVal = 10\n",
    "\n",
    "nCw = factorial(n) / (factorial(w) * factorial(n - w))\n",
    "overlapSet = binomial(w, b) * binomial(n - w, w - b)\n",
    "\n",
    "numPts = nCw.subs(n, nColL4Val).subs(w, wVal)\n",
    "print \"raw feature capacity\", numPts.evalf()\n",
    "\n",
    "sizeOverlapSet = 0\n",
    "for bVal in range(20, 40):\n",
    "    sizeOverlapSet += overlapSet.subs(w, wVal).subs(n, nColL4Val).subs(b, bVal)\n",
    "\n",
    "print \"inexact matches for each template: \", sizeOverlapSet.evalf()\n",
    "\n",
    "numFeatures = numPts / sizeOverlapSet\n",
    "\n",
    "print \"feature capacity after adjusting inexact matches: \", numFeatures.evalf()"
   ]
  },
  {
   "cell_type": "code",
   "execution_count": 4,
   "metadata": {
    "collapsed": false
   },
   "outputs": [
    {
     "name": "stdout",
     "output_type": "stream",
     "text": [
      "raw location capacity:  1.00000000000000e+40\n",
      "location capacity after adjusting inexact matches:  657012884.686707\n"
     ]
    }
   ],
   "source": [
    "mtow = pow(m, w)\n",
    "numPts = mtow.subs(m, mVal).subs(w, wVal)\n",
    "sizeInexactMatch = 0\n",
    "for bVal in range(20, 40):\n",
    "    sizeInexactMatch += nCw.subs(n, wVal).subs(w, bVal) * pow(mVal, wVal-bVal)\n",
    "\n",
    "numLocations = numPts / sizeInexactMatch\n",
    "print \"raw location capacity: \", numPts.evalf()\n",
    "print \"location capacity after adjusting inexact matches: \", numLocations.evalf()"
   ]
  },
  {
   "cell_type": "markdown",
   "metadata": {},
   "source": [
    "Verify capacity calculation with simulation"
   ]
  },
  {
   "cell_type": "code",
   "execution_count": 21,
   "metadata": {
    "collapsed": false
   },
   "outputs": [
    {
     "name": "stdout",
     "output_type": "stream",
     "text": [
      "mean overlap 0.02461\n",
      "max overlap 2\n"
     ]
    }
   ],
   "source": [
    "def generateL4SDR(n=2048, m=32, w=40):\n",
    "  colOrder = np.random.permutation(np.arange(n))\n",
    "  activeCols = colOrder[:w]\n",
    "  activeCells = np.random.randint(low=0, high=m, size=(w, ))\n",
    "\n",
    "  activeBits = activeCols * m + activeCells\n",
    "  return set(activeBits), set(activeCols)\n",
    "\n",
    "numRpts = 100000\n",
    "overlap = []\n",
    "for rpt in range(numRpts):\n",
    "    sdr1, sdr1cols = generateL4SDR()\n",
    "    sdr2, sdr2cols = generateL4SDR()\n",
    "    overlap.append(len(sdr1.intersection(sdr2)))\n",
    "overlap = np.array(overlap)\n",
    "print \"mean overlap\", np.mean(overlap)\n",
    "print \"max overlap\", np.max(overlap)"
   ]
  },
  {
   "cell_type": "code",
   "execution_count": null,
   "metadata": {
    "collapsed": true
   },
   "outputs": [],
   "source": [
    ""
   ]
  }
 ],
 "metadata": {
  "kernelspec": {
   "display_name": "Python 2",
   "language": "python",
   "name": "python2"
  },
  "language_info": {
   "codemirror_mode": {
    "name": "ipython",
    "version": 2.0
   },
   "file_extension": ".py",
   "mimetype": "text/x-python",
   "name": "python",
   "nbconvert_exporter": "python",
   "pygments_lexer": "ipython2",
   "version": "2.7.10"
  }
 },
 "nbformat": 4,
 "nbformat_minor": 0
}